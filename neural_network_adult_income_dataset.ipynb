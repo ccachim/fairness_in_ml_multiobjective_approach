{
 "cells": [
  {
   "cell_type": "code",
   "execution_count": 1,
   "metadata": {},
   "outputs": [
    {
     "name": "stderr",
     "output_type": "stream",
     "text": [
      "2024-07-14 18:32:32.588022: I tensorflow/core/platform/cpu_feature_guard.cc:210] This TensorFlow binary is optimized to use available CPU instructions in performance-critical operations.\n",
      "To enable the following instructions: AVX2 AVX512F AVX512_VNNI FMA, in other operations, rebuild TensorFlow with the appropriate compiler flags.\n"
     ]
    }
   ],
   "source": [
    "import pandas as pd\n",
    "import numpy as np\n",
    "import matplotlib.pyplot as plt\n",
    "\n",
    "from sklearn.model_selection import train_test_split\n",
    "from sklearn.preprocessing import StandardScaler\n",
    "from sklearn.metrics import confusion_matrix\n",
    "\n",
    "from tensorflow.keras.models import Sequential\n",
    "from tensorflow.keras.layers import Dense\n",
    "from keras.optimizers import Adam\n",
    "\n",
    "from pathlib import Path\n",
    "import itertools"
   ]
  },
  {
   "cell_type": "code",
   "execution_count": 2,
   "metadata": {},
   "outputs": [],
   "source": [
    "path = Path(Path.cwd())\n",
    "file_path = path / 'dataset' / 'adult_income.data'"
   ]
  },
  {
   "cell_type": "code",
   "execution_count": 3,
   "metadata": {},
   "outputs": [],
   "source": [
    "column_names = ['age', 'workclass', 'fnlwgt', 'education', 'education_num', 'marital_status',\n",
    "                'occupation', 'relationship', 'race', 'sex', 'capital_gain', 'capital_loss',\n",
    "                'hours_per_week', 'native_country', 'income']\n",
    "\n",
    "df = pd.read_csv(file_path, names=column_names, sep=',', skipinitialspace=True)\n",
    "df.replace('?', pd.NA, inplace=True)\n",
    "df.dropna(inplace=True)\n",
    "\n",
    "df['income'] = df['income'].apply(lambda x: 1 if x == '>50K' else 0)\n",
    "X = df.drop('income', axis=1)\n",
    "y = df['income']\n",
    "\n",
    "categorical_columns = ['workclass', 'education', 'marital_status', 'occupation', 'relationship', 'race', 'sex', 'native_country']\n",
    "continuous_columns = [col for col in X.columns if col not in categorical_columns]\n",
    "\n",
    "X = pd.get_dummies(X, columns=categorical_columns)\n",
    "one_hot_encoded_columns = [col for col in X.columns if col not in continuous_columns]\n",
    "\n",
    "scaler = StandardScaler()\n",
    "X_continuous = pd.DataFrame(scaler.fit_transform(X[continuous_columns]), index=X.index, columns=continuous_columns)\n",
    "X = X_continuous.join(X[one_hot_encoded_columns])\n",
    "X_train, X_test, y_train, y_test = train_test_split(X, y, test_size=0.2, random_state=42)\n",
    "\n"
   ]
  },
  {
   "cell_type": "code",
   "execution_count": 8,
   "metadata": {},
   "outputs": [
    {
     "name": "stderr",
     "output_type": "stream",
     "text": [
      "/Users/constancacachim/anaconda3/lib/python3.11/site-packages/keras/src/layers/core/dense.py:86: UserWarning: Do not pass an `input_shape`/`input_dim` argument to a layer. When using Sequential models, prefer using an `Input(shape)` object as the first layer in the model instead.\n",
      "  super().__init__(activity_regularizer=activity_regularizer, **kwargs)\n"
     ]
    },
    {
     "name": "stdout",
     "output_type": "stream",
     "text": [
      "Train: The loss is 0.2926315367221832 and the accuracy is 0.8659289479255676\n",
      "Test: The loss is 0.312509149312973 and the accuracy is 0.8561896681785583\n"
     ]
    }
   ],
   "source": [
    "model = Sequential()\n",
    "model.add(Dense(64, input_dim=X_train.shape[1], activation='relu'))\n",
    "model.add(Dense(32, activation='relu'))\n",
    "model.add(Dense(1, activation='sigmoid'))\n",
    "model.compile(loss='binary_crossentropy', optimizer=Adam(), metrics=['accuracy'])\n",
    "model.fit(X_train, y_train, epochs=10, batch_size=32, validation_split=0.2, verbose=0) \n",
    "loss, accuracy = model.evaluate(X_train, y_train, verbose=0)\n",
    "print(f'Train: The loss is {loss} and the accuracy is {accuracy}')\n",
    "\n",
    "model.fit(X_test, y_test, epochs=10, batch_size=32, validation_split=0.2, verbose=0) \n",
    "loss, accuracy = model.evaluate(X_train, y_train, verbose=0)\n",
    "print(f'Test: The loss is {loss} and the accuracy is {accuracy}')"
   ]
  },
  {
   "cell_type": "code",
   "execution_count": 5,
   "metadata": {},
   "outputs": [
    {
     "name": "stdout",
     "output_type": "stream",
     "text": [
      "\u001b[1m755/755\u001b[0m \u001b[32m━━━━━━━━━━━━━━━━━━━━\u001b[0m\u001b[37m\u001b[0m \u001b[1m1s\u001b[0m 1ms/step\n"
     ]
    }
   ],
   "source": [
    "y_pred = model.predict(X_train)\n",
    "y_pred = (y_pred > 0.5).astype(int)\n",
    "y_pred = y_pred.flatten()\n",
    "y_pred = pd.Series(y_pred, index=X_train.index)"
   ]
  },
  {
   "cell_type": "code",
   "execution_count": 6,
   "metadata": {},
   "outputs": [],
   "source": [
    "def fairness_calculator(protected_attribute_list, fairness_metric, X, y, y_pred):\n",
    "    fairness_dictionary = {}\n",
    "\n",
    "    for protected_attribute in protected_attribute_list:\n",
    "        protected_attribute_index = X.columns.get_loc(protected_attribute)\n",
    "        subset_y = []\n",
    "        subset_y_pred = []\n",
    "        indices = X.index[X.iloc[:, protected_attribute_index] == 1].to_list() \n",
    "        \n",
    "        for i in indices:\n",
    "            subset_y.append(y[i])\n",
    "            subset_y_pred.append(y_pred[i])\n",
    "\n",
    "        tn, fp, fn, tp = confusion_matrix(subset_y, subset_y_pred).ravel()\n",
    "        \n",
    "        if fairness_metric == 'Equal Opportunity':\n",
    "            tpr = tp / (tp + fn)\n",
    "            fairness = tpr\n",
    "        elif fairness_metric == 'Equalized Odds':\n",
    "            fpr = fp / (fp + tn)\n",
    "            fairness = fpr\n",
    "        elif fairness_metric == 'Disparate Impact':\n",
    "            n = tn + fp + fn + tp\n",
    "            ppp = (tp + fp) / n\n",
    "            fairness = ppp\n",
    "      \n",
    "        fairness_dictionary[protected_attribute] = fairness\n",
    "\n",
    "    fairness_difference = abs(fairness_dictionary[protected_attribute_list[0]] - fairness_dictionary[protected_attribute_list[1]])\n",
    "    return fairness_difference"
   ]
  },
  {
   "cell_type": "code",
   "execution_count": 7,
   "metadata": {},
   "outputs": [
    {
     "name": "stdout",
     "output_type": "stream",
     "text": [
      "Starting combination: 1\n",
      "Regarding Sex, the Equal Opportunity Difference between sex_Male and sex_Female is 0.005795085152992763\n",
      "Finishing combination: 1\n",
      "Starting combination: 2\n",
      "Regarding Race, the Equal Opportunity Difference between race_White and race_Black is 0.04189832396577042\n",
      "Finishing combination: 2\n",
      "Starting combination: 3\n",
      "Regarding Sex, the Equalized Odds Difference between sex_Male and sex_Female is 0.07945495848947519\n",
      "Finishing combination: 3\n",
      "Starting combination: 4\n",
      "Regarding Race, the Equalized Odds Difference between race_White and race_Black is 0.05492723800524168\n",
      "Finishing combination: 4\n",
      "Starting combination: 5\n",
      "Regarding Sex, the Disparate Impact Difference between sex_Male and sex_Female is 0.18718262345138026\n",
      "Finishing combination: 5\n",
      "Starting combination: 6\n",
      "Regarding Race, the Disparate Impact Difference between race_White and race_Black is 0.135218525012997\n",
      "Finishing combination: 6\n"
     ]
    }
   ],
   "source": [
    "#testes para diferentes protected_attributes e diferentes metricas de fairness\n",
    "fairness_metric_vector = ['Equal Opportunity', 'Equalized Odds', 'Disparate Impact']\n",
    "protected_attribute_vector = ['Sex', 'Race']\n",
    "\n",
    "complete_combinations = list(itertools.product(fairness_metric_vector, protected_attribute_vector))\n",
    "\n",
    "start = 0 #state\n",
    "for index in range(start, len(complete_combinations)):\n",
    "    print (f'Starting combination: {index+1}')\n",
    "\n",
    "    combination = complete_combinations[index]\n",
    "    fairness_metric = combination[0]\n",
    "    protected_attribute = combination[1]\n",
    "\n",
    "    if protected_attribute == 'Sex':\n",
    "        protected_attribute_list = ['sex_Male', 'sex_Female'] \n",
    "    elif protected_attribute == 'Race':\n",
    "        protected_attribute_list = ['race_White', 'race_Black']\n",
    "    else:\n",
    "        print('ERROR')\n",
    "\n",
    "    fairness_difference = fairness_calculator(protected_attribute_list, fairness_metric, X_train, y_train, y_pred)\n",
    "    print(f'Regarding {protected_attribute}, the {fairness_metric} Difference between {protected_attribute_list[0]} and {protected_attribute_list[1]} is {fairness_difference}')\n",
    "    print (f'Finishing combination: {index+1}')"
   ]
  }
 ],
 "metadata": {
  "kernelspec": {
   "display_name": "base",
   "language": "python",
   "name": "python3"
  },
  "language_info": {
   "codemirror_mode": {
    "name": "ipython",
    "version": 3
   },
   "file_extension": ".py",
   "mimetype": "text/x-python",
   "name": "python",
   "nbconvert_exporter": "python",
   "pygments_lexer": "ipython3",
   "version": "3.11.4"
  }
 },
 "nbformat": 4,
 "nbformat_minor": 2
}
